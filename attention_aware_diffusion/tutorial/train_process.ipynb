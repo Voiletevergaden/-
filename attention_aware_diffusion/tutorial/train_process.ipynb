{
 "cells": [
  {
   "cell_type": "code",
   "execution_count": null,
   "id": "initial_id",
   "metadata": {
    "collapsed": true
   },
   "outputs": [],
   "source": [
    "! python main.py --task celltype_GRN --data_file data/500_STRING_hESC/data.csv --net_file data/500_STRING_hESC/label.csv --setting new --alpha 100 --beta 1 --n_epoch 90 --save_name out\n",
    "!python main.py --task non_celltype_GRN --data_file data/500_ChIP-seq_hESC/data.csv --net_file data/500_ChIP-seq_hESC/label.csv --setting new --alpha 0.1 --beta 0.01 --n_epochs 150  --save_name out"
   ]
  },
  {
   "cell_type": "code",
   "outputs": [],
   "source": [
    "# Calculate EPR values\n",
    "import pandas as pd\n",
    "\n",
    "output = pd.read_csv('../demo_data/GRN_inference/output/500_STRING_hESC_demo_output.tsv', sep='\\t')\n",
    "output['EdgeWeight'] = abs(output['EdgeWeight'])\n",
    "output = output.sort_values('EdgeWeight', ascending=False)\n",
    "label = pd.read_csv('../demo_data/GRN_inference/input//500_STRING_hESC/label.csv')\n",
    "TFs = set(label['Gene1'])\n",
    "Genes = set(label['Gene1']) | set(label['Gene2'])\n",
    "output = output[output['Gene1'].apply(lambda x: x in TFs)]\n",
    "output = output[output['Gene2'].apply(lambda x: x in Genes)]\n",
    "label_set = set(label['Gene1'] + '|' + label['Gene2'])\n",
    "output = output.iloc[:len(label_set)]\n",
    "len(set(output['Gene1'] + '|' + output['Gene2']) & label_set) / (\n",
    "            len(label_set) ** 2 / (len(TFs) * len(Genes) - len(TFs)))"
   ],
   "metadata": {
    "collapsed": false
   },
   "id": "ec254f047c30b4bc"
  },
  {
   "cell_type": "code",
   "outputs": [],
   "source": [
    "# Calculate AUPR ratio values\n",
    "from sklearn.metrics import average_precision_score\n",
    "import numpy as np\n",
    "import pandas as pd\n",
    "\n",
    "output = pd.read_csv('../demo_data/GRN_inference/output/500_STRING_hESC_demo_output.tsv', sep='\\t')\n",
    "output['EdgeWeight'] = abs(output['EdgeWeight'])\n",
    "output = output.sort_values('EdgeWeight', ascending=False)\n",
    "label = pd.read_csv('../demo_data/GRN_inference/input/500_STRING_hESC/label.csv')\n",
    "TFs = set(label['Gene1'])\n",
    "Genes = set(label['Gene1']) | set(label['Gene2'])\n",
    "output = output[output['Gene1'].apply(lambda x: x in TFs)]\n",
    "output = output[output['Gene2'].apply(lambda x: x in Genes)]\n",
    "label_set = set(label['Gene1'] + label['Gene2'])\n",
    "preds, labels, randoms = [], [], []\n",
    "res_d = {}\n",
    "l = []\n",
    "p = []\n",
    "for item in (output.to_dict('records')):\n",
    "    res_d[item['Gene1'] + item['Gene2']] = item['EdgeWeight']\n",
    "for item in (set(label['Gene1'])):\n",
    "    for item2 in set(label['Gene1']) | set(label['Gene2']):\n",
    "        if item + item2 in label_set:\n",
    "            l.append(1)\n",
    "        else:\n",
    "            l.append(0)\n",
    "        if item + item2 in res_d:\n",
    "            p.append(res_d[item + item2])\n",
    "        else:\n",
    "            p.append(-1)\n",
    "average_precision_score(l, p) / np.mean(l)"
   ],
   "metadata": {
    "collapsed": false
   },
   "id": "b4407fdd78b9dca1"
  }
 ],
 "metadata": {
  "kernelspec": {
   "display_name": "Python 3",
   "language": "python",
   "name": "python3"
  },
  "language_info": {
   "codemirror_mode": {
    "name": "ipython",
    "version": 2
   },
   "file_extension": ".py",
   "mimetype": "text/x-python",
   "name": "python",
   "nbconvert_exporter": "python",
   "pygments_lexer": "ipython2",
   "version": "2.7.6"
  }
 },
 "nbformat": 4,
 "nbformat_minor": 5
}
